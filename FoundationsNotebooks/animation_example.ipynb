{
 "cells": [
  {
   "cell_type": "markdown",
   "id": "22682a83",
   "metadata": {
    "lines_to_next_cell": 0,
    "region_name": "md"
   },
   "source": [
    "\n",
    "# Creating Animations\n"
   ]
  },
  {
   "cell_type": "code",
   "execution_count": null,
   "id": "208400ab",
   "metadata": {},
   "outputs": [],
   "source": [
    "import example_utils\n",
    "from vapor import session, renderer, dataset, camera\n",
    "from vapor.animation import Animation"
   ]
  },
  {
   "cell_type": "code",
   "execution_count": null,
   "id": "7328da2d",
   "metadata": {},
   "outputs": [],
   "source": [
    "ses = session.Session()\n",
    "data = example_utils.OpenExampleDataset(ses)\n",
    "dimension = 2\n",
    "U,V = data.GetDataVarNames(dimension)[0:2]\n",
    "\n",
    "ren:renderer.FlowRenderer = data.NewRenderer(renderer.FlowRenderer)\n",
    "ren.SetFieldVariableNames([U, V])\n",
    "ses.GetCamera().ViewAll()\n",
    "ren.SetRenderType(ren.RenderType.RenderTypeStream)\n",
    "ren.SetRenderRadiusScalar(3)\n",
    "ren.SetRenderGeom3D(True)\n",
    "ren.SetColorMapVariableName(U)\n",
    "# ses.Show()"
   ]
  },
  {
   "cell_type": "code",
   "execution_count": null,
   "id": "0010e0aa",
   "metadata": {},
   "outputs": [],
   "source": [
    "anim = Animation(ses)\n",
    "for i in range(0, 200, 2):\n",
    "    ren.SetSteadyNumOfSteps(i)\n",
    "    anim.CaptureFrame()\n",
    "    print(f\"Rendering Animation [{'#'*round(i/5)}{' '*round(40-i/5)}] {(i+1)/2:.0f}%\", end=\"\\r\")\n",
    "anim.Show()"
   ]
  },
  {
   "cell_type": "code",
   "execution_count": null,
   "id": "dc4ac7af",
   "metadata": {},
   "outputs": [],
   "source": [
    "anim.ShowInteractive()"
   ]
  },
  {
   "cell_type": "code",
   "execution_count": null,
   "id": "6882f80f",
   "metadata": {},
   "outputs": [],
   "source": [
    "anim.SaveMP4(\"test.mp4\")"
   ]
  }
 ],
 "metadata": {
  "jupytext": {
   "cell_metadata_filter": "region_name,-all",
   "main_language": "python",
   "notebook_metadata_filter": "-all"
  }
 },
 "nbformat": 4,
 "nbformat_minor": 5
}
{
 "cells": [
  {
   "cell_type": "markdown",
   "id": "1c0adfd7",
   "metadata": {
    "lines_to_next_cell": 0,
    "region_name": "md"
   },
   "source": [
    "\n",
    "# Controlling the Camera\n"
   ]
  },
  {
   "cell_type": "code",
   "execution_count": null,
   "id": "3f6eb88e",
   "metadata": {},
   "outputs": [],
   "source": [
    "import example_utils\n",
    "from vapor import session, renderer, dataset, camera\n",
    "\n",
    "ses = session.Session()\n",
    "data = example_utils.OpenExampleDataset(ses)\n",
    "\n",
    "ren = data.NewRenderer(renderer.VolumeIsoRenderer)\n",
    "ren.SetIsoValues([-0.10, 0.2])\n",
    "\n",
    "# Show 3D orientation arrows.\n",
    "ses.GetSceneAnnotations().SetAxisArrowEnabled(True)"
   ]
  },
  {
   "cell_type": "code",
   "execution_count": null,
   "id": "6acc2b0e",
   "metadata": {},
   "outputs": [],
   "source": [
    "cam = ses.GetCamera()"
   ]
  },
  {
   "cell_type": "code",
   "execution_count": null,
   "id": "c6b63ceb",
   "metadata": {},
   "outputs": [],
   "source": [
    "help(cam.ViewAll)\n",
    "cam.ViewAll()\n",
    "ses.Show()"
   ]
  },
  {
   "cell_type": "code",
   "execution_count": null,
   "id": "1b6f922a",
   "metadata": {},
   "outputs": [],
   "source": [
    "help(cam.AlignView)\n",
    "cam.AlignView(\"-X\")\n",
    "ses.Show()"
   ]
  },
  {
   "cell_type": "code",
   "execution_count": null,
   "id": "c089a4f3",
   "metadata": {},
   "outputs": [],
   "source": [
    "help(cam.Zoom)\n",
    "cam.Zoom(-0.4)\n",
    "ses.Show()"
   ]
  },
  {
   "cell_type": "code",
   "execution_count": null,
   "id": "b3137e38",
   "metadata": {},
   "outputs": [],
   "source": [
    "help(cam.LookAt)\n",
    "cam.LookAt((32, -100, 100), ren.GetTransform().GetOrigin())\n",
    "ses.Show()"
   ]
  }
 ],
 "metadata": {
  "jupytext": {
   "cell_metadata_filter": "region_name,-all",
   "main_language": "python",
   "notebook_metadata_filter": "-all"
  }
 },
 "nbformat": 4,
 "nbformat_minor": 5
}
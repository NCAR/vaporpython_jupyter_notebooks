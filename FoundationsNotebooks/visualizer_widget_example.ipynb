{
 "cells": [
  {
   "cell_type": "markdown",
   "id": "57f5eb22",
   "metadata": {
    "lines_to_next_cell": 0,
    "region_name": "md"
   },
   "source": [
    "\n",
    "# Visualizer Widgets\n",
    "\n",
    "Visualizer widgets allow you to interactively explore a session as you would in a Vapor GUI visualizer.\n",
    "This notebook shows how to use visualizer widgets and how to add additional dynamic parameter inputs.\n"
   ]
  },
  {
   "cell_type": "code",
   "execution_count": 1,
   "id": "7027e853",
   "metadata": {},
   "outputs": [
    {
     "name": "stdout",
     "output_type": "stream",
     "text": [
      "(Re-)building pre-compiled headers (options: -O2 -mavx); this may take a minute ...\n"
     ]
    },
    {
     "name": "stderr",
     "output_type": "stream",
     "text": [
      "Warning: sysroot \"/Applications/Xcode_12.4.app/Contents/Developer/Platforms/MacOSX.platform/Developer/SDKs/MacOSX.sdk\" not found (ignoring for now).Warning: sysroot \"/Applications/Xcode_12.4.app/Contents/Developer/Platforms/MacOSX.platform/Developer/SDKs/MacOSX.sdk\" not found (ignoring for now)."
     ]
    },
    {
     "name": "stdout",
     "output_type": "stream",
     "text": [
      "Vapor 3.8.0\n",
      "Python 3.9.15 (/opt/miniconda3/envs/vapTest2)\n",
      "OpenGL 4.1 ATI-4.6.21\n"
     ]
    }
   ],
   "source": [
    "import example_utils\n",
    "from vapor import session, renderer, dataset, camera\n",
    "\n",
    "ses = session.Session()\n",
    "data = example_utils.OpenExampleDataset(ses)"
   ]
  },
  {
   "cell_type": "markdown",
   "id": "2e722a95",
   "metadata": {
    "lines_to_next_cell": 0,
    "region_name": "md"
   },
   "source": [
    "\n",
    "## Render an Iso Surface\n"
   ]
  },
  {
   "cell_type": "code",
   "execution_count": 2,
   "id": "55eabe1c",
   "metadata": {},
   "outputs": [
    {
     "data": {
      "image/png": "[encoded data removed]",
      "text/plain": [
       "<PIL.Image.Image image mode=RGB size=600x480>"
      ]
     },
     "metadata": {},
     "output_type": "display_data"
    }
   ],
   "source": [
    "ren = data.NewRenderer(renderer.VolumeIsoRenderer)\n",
    "ren.SetVariableName(data.GetDataVarNames(3)[0]) # Set to first 2D data variable\n",
    "ren.SetIsoValues([ren.GetIsoValues()[0]+0.1])\n",
    "\n",
    "ses.GetCamera().ViewAll()\n",
    "ses.Show()"
   ]
  },
  {
   "cell_type": "markdown",
   "id": "57540919",
   "metadata": {
    "lines_to_next_cell": 0,
    "region_name": "md"
   },
   "source": [
    "\n",
    "## Create a visualizer to explore the scene\n",
    "\n",
    "Try dragging the image to rotate the view.\n",
    "Hover over the visualizer to see the full controls.\n"
   ]
  },
  {
   "cell_type": "code",
   "execution_count": 5,
   "id": "b2a4b39f",
   "metadata": {},
   "outputs": [
    {
     "data": {
      "application/vnd.jupyter.widget-view+json": {
       "model_id": "bd27fb0c08c14036b5ca9dd8f95a00bd",
       "version_major": 2,
       "version_minor": 0
      },
      "text/plain": [
       "VaporVisualizerWidget(imageData='/9j/4AAQSkZJRgABAQAAAQABAAD/2wBDAAgGBgcGBQgHBwcJCQgKDBQNDAsLDBkSEw8UHRofHh0aH…"
      ]
     },
     "execution_count": 5,
     "metadata": {},
     "output_type": "execute_result"
    }
   ],
   "source": [
    "from jupyter_vapor_widget import *\n",
    "\n",
    "viz = VaporVisualizerWidget(ses)\n",
    "viz"
   ]
  },
  {
   "cell_type": "markdown",
   "id": "a6ecb1e7",
   "metadata": {
    "lines_to_next_cell": 0,
    "region_name": "md"
   },
   "source": [
    "\n",
    "## Add an interactive iso value slider using **ipywidgets**\n"
   ]
  },
  {
   "cell_type": "code",
   "execution_count": 6,
   "id": "7a9a335a",
   "metadata": {},
   "outputs": [
    {
     "data": {
      "application/vnd.jupyter.widget-view+json": {
       "model_id": "781ec9b9aa414ab790a05f0ce0be8783",
       "version_major": 2,
       "version_minor": 0
      },
      "text/plain": [
       "VBox(children=(VaporVisualizerWidget(imageData='/9j/4AAQSkZJRgABAQAAAQABAAD/2wBDAAgGBgcGBQgHBwcJCQgKDBQNDAsLDB…"
      ]
     },
     "execution_count": 6,
     "metadata": {},
     "output_type": "execute_result"
    }
   ],
   "source": [
    "tf = ren.GetPrimaryTransferFunction()\n",
    "dataRange = tf.GetMinMaxMapValue()\n",
    "\n",
    "def sliderChanged(change):\n",
    "    ren.SetIsoValues([change.new])\n",
    "    viz.Render(fast=True)\n",
    "\n",
    "slider = widgets.FloatSlider(value=ren.GetIsoValues()[0], min=dataRange[0], max=dataRange[1], step=(dataRange[1]-dataRange[0])/100)\n",
    "slider.observe(sliderChanged, names='value')\n",
    "\n",
    "widgets.VBox([\n",
    "    viz,\n",
    "    widgets.HBox([widgets.Label(\"Iso value:\"), slider])\n",
    "])"
   ]
  },
  {
   "cell_type": "code",
   "execution_count": null,
   "id": "7ebf4ebd",
   "metadata": {},
   "outputs": [],
   "source": []
  }
 ],
 "metadata": {
  "jupytext": {
   "cell_metadata_filter": "region_name,-all",
   "main_language": "python",
   "notebook_metadata_filter": "-all"
  },
  "kernelspec": {
   "display_name": "Python 3 (ipykernel)",
   "language": "python",
   "name": "python3"
  },
  "language_info": {
   "codemirror_mode": {
    "name": "ipython",
    "version": 3
   },
   "file_extension": ".py",
   "mimetype": "text/x-python",
   "name": "python",
   "nbconvert_exporter": "python",
   "pygments_lexer": "ipython3",
   "version": "3.9.15"
  }
 },
 "nbformat": 4,
 "nbformat_minor": 5
}

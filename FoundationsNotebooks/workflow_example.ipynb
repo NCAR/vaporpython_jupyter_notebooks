{
 "cells": [
  {
   "cell_type": "markdown",
   "id": "d179b213",
   "metadata": {
    "lines_to_next_cell": 0,
    "region_name": "md"
   },
   "source": [
    "\n",
    "# Vapor Python Tutorial\n",
    "\n",
    "This shows an example workflow with vapor.\n",
    "We begin by creating a session and opening a dataset.\n",
    "You can have multiple sessions open at the same time.\n"
   ]
  },
  {
   "cell_type": "code",
   "execution_count": null,
   "id": "c7494177",
   "metadata": {},
   "outputs": [],
   "source": [
    "import example_utils\n",
    "from vapor import session, renderer, dataset, camera, utils"
   ]
  },
  {
   "cell_type": "code",
   "execution_count": null,
   "id": "c4168410",
   "metadata": {},
   "outputs": [],
   "source": [
    "ses = session.Session()\n",
    "data = example_utils.OpenExampleDataset(ses)"
   ]
  },
  {
   "cell_type": "markdown",
   "id": "f525ee62",
   "metadata": {
    "lines_to_next_cell": 0,
    "region_name": "md"
   },
   "source": [
    "\n",
    "## Dump the dataset metadata\n"
   ]
  },
  {
   "cell_type": "code",
   "execution_count": null,
   "id": "43b255c7",
   "metadata": {},
   "outputs": [],
   "source": [
    "print(\"Time Coordinate Variable Name:\", data.GetTimeCoordVarName())\n",
    "print(\"Coordinate Variable Names:\", data.GetCoordVarNames())\n",
    "\n",
    "print(\"Dimensions:\")\n",
    "for dim in data.GetDimensionNames():\n",
    "    print(f\"  {dim}:\", data.GetDimensionLength(dim, 0))\n",
    "\n",
    "print(\"Data Variables:\")\n",
    "for var in data.GetDataVarNames():\n",
    "    print(f\"  {var}\")\n",
    "    print(f\"    Time Varying:\", bool(data.IsTimeVarying(var)))\n",
    "    print(f\"    Dimensionality:\", data.GetVarGeometryDim(var))\n",
    "    print(f\"    Coordinates:\", data.GetVarCoordVars(var, True))\n",
    "    print(\"     Data Range:\", data.GetDataRange(var))"
   ]
  },
  {
   "cell_type": "markdown",
   "id": "30d72d6c",
   "metadata": {
    "lines_to_next_cell": 0,
    "region_name": "md"
   },
   "source": [
    "\n",
    "## Render the first 2D variable as a pseudocolor\n"
   ]
  },
  {
   "cell_type": "code",
   "execution_count": null,
   "id": "028904b8",
   "metadata": {},
   "outputs": [],
   "source": [
    "first_2d_var = data.GetDataVarNames(2)[0]\n",
    "print(f\"Rendering 2D variable {first_2d_var}\")\n",
    "\n",
    "ren = data.NewRenderer(renderer.TwoDDataRenderer)\n",
    "ren.SetVariableName(first_2d_var)\n",
    "ren.GetPrimaryTransferFunction().SetMinMapValue(-1)\n",
    "ren.GetPrimaryTransferFunction().SetMaxMapValue(1)\n",
    "\n",
    "ses.GetCamera().ViewAll()\n",
    "ses.Show()\n",
    "\n",
    "ses.DeleteRenderer(ren)"
   ]
  },
  {
   "cell_type": "markdown",
   "id": "21840458",
   "metadata": {
    "lines_to_next_cell": 0,
    "region_name": "md"
   },
   "source": [
    "\n",
    "## Render U10 and V10 as barbs over a map\n"
   ]
  },
  {
   "cell_type": "code",
   "execution_count": null,
   "id": "d519826a",
   "metadata": {},
   "outputs": [],
   "source": [
    "# If your dataset is geo-referenced, this will automatically render a geographically correct map.\n",
    "# map_ren = data.NewRenderer(renderer.ImageRenderer)\n",
    "\n",
    "barbs = data.NewRenderer(renderer.BarbRenderer)\n",
    "barbs.SetDimensions(2)\n",
    "barbs.SetFieldVariableNames(['U10', 'V10'])\n",
    "barbs.SetLineThickness(2)\n",
    "\n",
    "ses.Show()\n",
    "ses.DeleteRenderer(barbs)"
   ]
  },
  {
   "cell_type": "markdown",
   "id": "a2e94a34",
   "metadata": {
    "lines_to_next_cell": 0,
    "region_name": "md"
   },
   "source": [
    "\n",
    "## Simulate and render a flow advection\n"
   ]
  },
  {
   "cell_type": "code",
   "execution_count": null,
   "id": "c34cc670",
   "metadata": {},
   "outputs": [],
   "source": [
    "flow = data.NewRenderer(renderer.FlowRenderer)\n",
    "flow.SetFieldVariableNames(['U10', 'V10'])\n",
    "\n",
    "ses.Show()\n",
    "\n",
    "ses.DeleteRenderer(flow)"
   ]
  },
  {
   "cell_type": "markdown",
   "id": "1dd5ca5b",
   "metadata": {
    "lines_to_next_cell": 0,
    "region_name": "md"
   },
   "source": [
    "\n",
    "## Volume render a 3D variable\n"
   ]
  },
  {
   "cell_type": "code",
   "execution_count": null,
   "id": "5443f61f",
   "metadata": {},
   "outputs": [],
   "source": [
    "volume = data.NewRenderer(renderer.VolumeRenderer)\n",
    "volume.SetVariableName(\"V\")\n",
    "\n",
    "tf = volume.GetPrimaryTransferFunction()\n",
    "tf.SetOpacityList([1, 0, 0, 1])\n",
    "\n",
    "ses.GetCamera().ViewAll()\n",
    "ses.Show()\n",
    "\n",
    "# Show a colorbar for the volume rendering\n",
    "tf.ShowMatPlotLibColorbar(label=\"V\")"
   ]
  },
  {
   "cell_type": "markdown",
   "id": "935f74a7",
   "metadata": {
    "lines_to_next_cell": 0,
    "region_name": "md"
   },
   "source": [
    "\n",
    "## Scale the dataset Z axis\n",
    "\n",
    "Vapor will automatically scale the Z axis of a dataset to produce reasonable results.\n",
    "This can be manually adjusted as shown below.\n"
   ]
  },
  {
   "cell_type": "code",
   "execution_count": null,
   "id": "484d661b",
   "metadata": {},
   "outputs": [],
   "source": [
    "scales = data.GetTransform().GetScales()\n",
    "print(\"Default dataset scaling =\", scales);\n",
    "scales[2] *= 0.3\n",
    "data.GetTransform().SetScales(scales)\n",
    "print(\"New dataset scaling =\", data.GetTransform().GetScales());\n",
    "ses.Show()"
   ]
  },
  {
   "cell_type": "markdown",
   "id": "24d03830",
   "metadata": {
    "lines_to_next_cell": 0,
    "region_name": "md"
   },
   "source": [
    "\n",
    "## Add axis annotations to the rendering\n"
   ]
  },
  {
   "cell_type": "code",
   "execution_count": null,
   "id": "913d4f8e",
   "metadata": {},
   "outputs": [],
   "source": [
    "annotations = ses.GetAxisAnnotations()\n",
    "annotations.SetAxisAnnotationEnabled(True)\n",
    "ses.Show()"
   ]
  },
  {
   "cell_type": "markdown",
   "id": "8e24c25a",
   "metadata": {
    "lines_to_next_cell": 0,
    "region_name": "md"
   },
   "source": [
    "\n",
    "## Export the session for use in the Vapor GUI application\n",
    "\n",
    "Sessions created in Python can be saved as a .vs3 file.\n",
    "These files can then be opened in the Vapor GUI application and explored interactively.\n",
    "Conversely, sessions created in the Vapor GUI can be loaded into Python with `Session.Load(path)`\n",
    "\n",
    "Since this example uses a dynamically generated dataset, the session cannot be saved as\n",
    "it would point to a dataset that does not exist on disk. If you were using a physical dataset,\n",
    "this would work.\n"
   ]
  },
  {
   "cell_type": "code",
   "execution_count": null,
   "id": "e64a7db2",
   "metadata": {},
   "outputs": [],
   "source": [
    "ses.Save(\"tutorial.vs3\")"
   ]
  }
 ],
 "metadata": {
  "jupytext": {
   "cell_metadata_filter": "region_name,-all",
   "main_language": "python",
   "notebook_metadata_filter": "-all"
  }
 },
 "nbformat": 4,
 "nbformat_minor": 5
}
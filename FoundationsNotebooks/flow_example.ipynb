{
 "cells": [
  {
   "cell_type": "markdown",
   "id": "654317af",
   "metadata": {
    "lines_to_next_cell": 0,
    "region_name": "md"
   },
   "source": [
    "\n",
    "# Advecting Flow Paths\n",
    "\n",
    "Vapor can advect and render flow paths through your data.\n"
   ]
  },
  {
   "cell_type": "code",
   "execution_count": null,
   "id": "eeaca96d",
   "metadata": {},
   "outputs": [],
   "source": [
    "import example_utils\n",
    "from vapor import session, renderer, dataset, camera\n",
    "\n",
    "ses = session.Session()\n",
    "data = example_utils.OpenExampleDataset(ses)"
   ]
  },
  {
   "cell_type": "markdown",
   "id": "7bec51a0",
   "metadata": {
    "lines_to_next_cell": 0,
    "region_name": "md"
   },
   "source": [
    "\n",
    "## Default advection\n",
    "\n",
    "When you create a Flow renderer, the default advection will create a regularly dispersed grid of seed points and simulate a streamline advection in 2D or 3D, depending on the provided variables.\n"
   ]
  },
  {
   "cell_type": "code",
   "execution_count": null,
   "id": "0c2e7acc",
   "metadata": {},
   "outputs": [],
   "source": [
    "# Use first 2 2D variables as our U,V for the flow advection\n",
    "dimension = 2\n",
    "U,V = data.GetDataVarNames(dimension)[0:2]\n",
    "\n",
    "ren:renderer.FlowRenderer = data.NewRenderer(renderer.FlowRenderer)\n",
    "ren.SetFieldVariableNames([U, V])\n",
    "ses.GetCamera().ViewAll()\n",
    "ses.Show()"
   ]
  },
  {
   "cell_type": "markdown",
   "id": "4281327f",
   "metadata": {
    "lines_to_next_cell": 0,
    "region_name": "md"
   },
   "source": [
    "\n",
    "## Rendering techniques\n",
    "\n",
    "The rendering of the flow paths can be configured. A few examples are shown below.\n",
    "Call help(renderer.FlowRenderer) to see additional options.\n"
   ]
  },
  {
   "cell_type": "code",
   "execution_count": null,
   "id": "4054e99c",
   "metadata": {},
   "outputs": [],
   "source": [
    "ren.SetRenderType(ren.RenderType.RenderTypeStream)\n",
    "ren.SetRenderRadiusScalar(3)\n",
    "ren.SetRenderGeom3D(True)\n",
    "ren.SetColorMapVariableName(U)\n",
    "ses.Show()"
   ]
  },
  {
   "cell_type": "markdown",
   "id": "d5ee4eda",
   "metadata": {
    "lines_to_next_cell": 0,
    "region_name": "md"
   },
   "source": [
    "\n",
    "Rather than rendering the flow lines, you can also render the sample points that are taken along the flow path individually.\n"
   ]
  },
  {
   "cell_type": "code",
   "execution_count": null,
   "id": "1ff90095",
   "metadata": {},
   "outputs": [],
   "source": [
    "ren.SetRenderType(ren.RenderType.RenderTypeSamples)\n",
    "ses.Show()"
   ]
  },
  {
   "cell_type": "code",
   "execution_count": null,
   "id": "dbeb6645",
   "metadata": {},
   "outputs": [],
   "source": [
    "ren.SetRenderGlyphType(ren.GlpyhType.GlpyhTypeArrow)\n",
    "ren.SetRenderRadiusScalar(7)\n",
    "ses.Show()"
   ]
  },
  {
   "cell_type": "code",
   "execution_count": null,
   "id": "579aa64b",
   "metadata": {},
   "outputs": [],
   "source": [
    "# Reset the rendering style for the next section\n",
    "ren.SetRenderRadiusScalar(3)\n",
    "ren.SetRenderType(ren.RenderType.RenderTypeStream)"
   ]
  },
  {
   "cell_type": "markdown",
   "id": "3649da5e",
   "metadata": {
    "region_name": "md"
   },
   "source": [
    "\n",
    "## Seeding the advection\n",
    "\n",
    "The seeds from which the advected particles start can be configured in a variety of manners.\n",
    "Call help(renderer.FlowRenderer) to see additional options.\n"
   ]
  },
  {
   "cell_type": "markdown",
   "id": "5642c674",
   "metadata": {
    "lines_to_next_cell": 0,
    "region_name": "md"
   },
   "source": [
    "\n",
    "### Uniform Distribution\n",
    "\n",
    "This is the default. It creates a uniformly distributed grid of seed points over the area/volume of the advected region.\n"
   ]
  },
  {
   "cell_type": "code",
   "execution_count": null,
   "id": "71ca38f9",
   "metadata": {},
   "outputs": [],
   "source": [
    "ren.SetSeedGenMode(ren.FlowSeedMode.UNIFORM)\n",
    "rake = ren.GetRakeRegion()\n",
    "defaultRakeExtents = rake.GetExtents()\n",
    "rake.SetExtents((20, 20), (40, 40))\n",
    "print(f\"Seeding a {ren.GetGridNumOfSeeds()} grid over {rake.GetExtents()}\")\n",
    "ses.Show()\n",
    "rake.SetExtents(*defaultRakeExtents)"
   ]
  },
  {
   "cell_type": "markdown",
   "id": "136ebea7",
   "metadata": {
    "lines_to_next_cell": 0,
    "region_name": "md"
   },
   "source": [
    "\n",
    "### Random Distribution\n"
   ]
  },
  {
   "cell_type": "code",
   "execution_count": null,
   "id": "532ad716",
   "metadata": {},
   "outputs": [],
   "source": [
    "ren.SetSeedGenMode(ren.FlowSeedMode.RANDOM)\n",
    "print(f\"Seeding {ren.GetRandomNumOfSeeds()} random points over {rake.GetExtents()}\")\n",
    "ses.Show()"
   ]
  },
  {
   "cell_type": "markdown",
   "id": "f467e845",
   "metadata": {
    "lines_to_next_cell": 0,
    "region_name": "md"
   },
   "source": [
    "\n",
    "### Biased Distribution\n",
    "\n",
    "This generates a random list of seed points however they are biased by a given variable.\n",
    "The number of seed points can be higher or lower based on the value of the `RakeBiasVariable`.\n",
    "You can set the `RakeBiasStrength` to a negative value to invert the bias.\n"
   ]
  },
  {
   "cell_type": "code",
   "execution_count": null,
   "id": "a2ae7efb",
   "metadata": {},
   "outputs": [],
   "source": [
    "ren.SetSeedGenMode(ren.FlowSeedMode.RANDOM_BIAS)\n",
    "ren.SetRakeBiasVariable(V)\n",
    "ren.SetRakeBiasStrength(1)\n",
    "print(f\"Seeding {ren.GetRandomNumOfSeeds()} random points biased by {ren.GetRakeBiasVariable()} over {rake.GetExtents()}\")\n",
    "ses.Show()"
   ]
  },
  {
   "cell_type": "markdown",
   "id": "6a03379b",
   "metadata": {
    "lines_to_next_cell": 0,
    "region_name": "md"
   },
   "source": [
    "\n",
    "### Manual List\n",
    "\n",
    "You can pass in a manually created list of seeds using a basic text file format.\n",
    "The code below generates an example seed file and passes it to Vapor.\n",
    "The full documentation for the seed file format can be found on Vapor's website.\n"
   ]
  },
  {
   "cell_type": "code",
   "execution_count": null,
   "id": "70cdcd9b",
   "metadata": {},
   "outputs": [],
   "source": [
    "with open(\"flow_seeds.txt\", \"w\") as f:\n",
    "    print(\"# X, Y, Z, T (optional)\", file=f)\n",
    "    print(\"10, 10, 0\", file=f)\n",
    "    print(\"20, 20, 0\", file=f)\n",
    "\n",
    "ren.SetSeedGenMode(ren.FlowSeedMode.LIST)\n",
    "ren.SetSeedInputFilename(\"flow_seeds.txt\")\n",
    "ses.Show()"
   ]
  }
 ],
 "metadata": {
  "jupytext": {
   "cell_metadata_filter": "region_name,-all",
   "main_language": "python",
   "notebook_metadata_filter": "-all"
  }
 },
 "nbformat": 4,
 "nbformat_minor": 5
}
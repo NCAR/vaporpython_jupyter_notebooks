{
 "cells": [
  {
   "cell_type": "markdown",
   "id": "b13ae5c1",
   "metadata": {
    "lines_to_next_cell": 0,
    "region_name": "md"
   },
   "source": [
    "\n",
    "# Rendering Numpy data with Vapor\n",
    "\n",
    "Vapor supports rendering 2D and 3D numpy data.\n",
    "In order to pass Numpy data to Vapor, create a data set of the type `vapor.dataset.PYTHON`\n",
    "This can also be done with the convenience function `Session.CreatePythonDataset()`.\n",
    "You can add numpy arrays as variables to that dataset by using `Dataset.AddNumpyData`.\n",
    "\n",
    "These variables can then be rendered normally using any of Vapor's renderers.\n"
   ]
  },
  {
   "cell_type": "code",
   "execution_count": null,
   "id": "c910850a",
   "metadata": {},
   "outputs": [],
   "source": [
    "import example_utils\n",
    "from vapor import session, renderer, dataset, camera\n",
    "import numpy as np\n",
    "\n",
    "ses = session.Session()\n",
    "data = ses.CreatePythonDataset()"
   ]
  },
  {
   "cell_type": "code",
   "execution_count": null,
   "id": "3eacbacb",
   "metadata": {},
   "outputs": [],
   "source": [
    "\n",
    "# Create a 2D numpy array and add it to vapor's dataset\n",
    "\n",
    "np_array = np.arange(64**2).reshape((64,64))\n",
    "data.AddNumpyData(\"variable_name\", np_array)\n",
    "\n",
    "print(np_array)"
   ]
  },
  {
   "cell_type": "code",
   "execution_count": null,
   "id": "68837329",
   "metadata": {},
   "outputs": [],
   "source": [
    "\n",
    "# Create a renderer for the data\n",
    "\n",
    "ren = data.NewRenderer(renderer.WireFrameRenderer)\n",
    "ren.SetVariableName(\"variable_name\")"
   ]
  },
  {
   "cell_type": "code",
   "execution_count": null,
   "id": "0c3c9515",
   "metadata": {},
   "outputs": [],
   "source": [
    "\n",
    "# Show the rendering\n",
    "\n",
    "ses.GetCamera().ViewAll()\n",
    "ses.Show()"
   ]
  }
 ],
 "metadata": {
  "jupytext": {
   "cell_metadata_filter": "region_name,-all",
   "main_language": "python",
   "notebook_metadata_filter": "-all"
  }
 },
 "nbformat": 4,
 "nbformat_minor": 5
}
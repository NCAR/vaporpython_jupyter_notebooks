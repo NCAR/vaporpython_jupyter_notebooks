{
 "cells": [
  {
   "cell_type": "markdown",
   "id": "2dcb7739",
   "metadata": {
    "lines_to_next_cell": 0,
    "region_name": "md"
   },
   "source": [
    "\n",
    "# Annotations\n",
    "\n",
    "You can annotate your renderings using Vapor's build in annotations as well as MatPlotLib\n"
   ]
  },
  {
   "cell_type": "code",
   "execution_count": null,
   "id": "a0332d1e",
   "metadata": {},
   "outputs": [],
   "source": [
    "import example_utils\n",
    "from vapor import session, renderer, dataset, camera, utils\n",
    "\n",
    "ses = session.Session()\n",
    "data = example_utils.OpenExampleDataset(ses)\n",
    "\n",
    "ren = data.NewRenderer(renderer.TwoDDataRenderer)\n",
    "ren.SetVariableName(data.GetDataVarNames(2)[1])\n",
    "ses.GetCamera().ViewAll()"
   ]
  },
  {
   "cell_type": "markdown",
   "id": "c82382c9",
   "metadata": {
    "lines_to_next_cell": 0,
    "region_name": "md"
   },
   "source": [
    "\n",
    "## Vapor Colorbars\n"
   ]
  },
  {
   "cell_type": "code",
   "execution_count": null,
   "id": "b45767af",
   "metadata": {},
   "outputs": [],
   "source": [
    "# Show the basic colorbar annotation for a renderer\n",
    "colorbar = ren.GetColorbarAnnotation()\n",
    "colorbar.SetEnabled(True)\n",
    "ses.Show()"
   ]
  },
  {
   "cell_type": "code",
   "execution_count": null,
   "id": "57ad3ea4",
   "metadata": {},
   "outputs": [],
   "source": [
    "# Customized colorbar annotation\n",
    "colorbar.SetSize((0.2, 0.25))\n",
    "colorbar.SetTitle(\"Colorbar Title\")\n",
    "colorbar.SetCornerPosition((0.95, 0.95))\n",
    "ses.Show()"
   ]
  },
  {
   "cell_type": "markdown",
   "id": "2867c64c",
   "metadata": {
    "lines_to_next_cell": 0,
    "region_name": "md"
   },
   "source": [
    "\n",
    "## MatPlotLib Colorbars\n",
    "\n",
    "You can customize the histograms as you would MatPlotLib's `pylab.colorbar`\n"
   ]
  },
  {
   "cell_type": "code",
   "execution_count": null,
   "id": "bc022a90",
   "metadata": {},
   "outputs": [],
   "source": [
    "tf = ren.GetPrimaryTransferFunction()\n",
    "tf.ShowMatPlotLibColorbar()"
   ]
  },
  {
   "cell_type": "code",
   "execution_count": null,
   "id": "dd7c26e7",
   "metadata": {},
   "outputs": [],
   "source": [
    "tf.ShowMatPlotLibColorbar(orientation=\"vertical\", figsize=(1.5,4))"
   ]
  },
  {
   "cell_type": "code",
   "execution_count": null,
   "id": "e1dcea24",
   "metadata": {},
   "outputs": [],
   "source": [
    "# The MatPlotLib Colorbars are automatically synced to Vapor's transfer functions\n",
    "tf.LoadBuiltinColormap(tf.ListBuiltinColormaps()[7])\n",
    "ses.Show()\n",
    "tf.ShowMatPlotLibColorbar()"
   ]
  },
  {
   "cell_type": "code",
   "execution_count": null,
   "id": "d4ff6a6e",
   "metadata": {},
   "outputs": [],
   "source": [
    "colorbar.SetEnabled(False)"
   ]
  },
  {
   "cell_type": "markdown",
   "id": "ba162fa8",
   "metadata": {
    "lines_to_next_cell": 0,
    "region_name": "md"
   },
   "source": [
    "\n",
    "## MatPlotLib Histograms\n"
   ]
  },
  {
   "cell_type": "code",
   "execution_count": null,
   "id": "bdc18797",
   "metadata": {},
   "outputs": [],
   "source": [
    "utils.ShowMatPlotLibHistogram(ses, ren)"
   ]
  },
  {
   "cell_type": "markdown",
   "id": "3d9f85d2",
   "metadata": {
    "lines_to_next_cell": 0,
    "region_name": "md"
   },
   "source": [
    "---\n",
    "You can customize the histograms as you would `matplotlib.pyplot.hist`\n"
   ]
  },
  {
   "cell_type": "code",
   "execution_count": null,
   "id": "180dcc08",
   "metadata": {},
   "outputs": [],
   "source": [
    "plt = utils.GetMatPlotLibHistogram(ses, ren, color =\"red\")\n",
    "plt.xlabel(\"X-Axis\")\n",
    "plt.ylabel(\"Y-Axis\")\n",
    "plt.title(\"Title\\n\", fontweight=\"bold\")\n",
    "plt.show()"
   ]
  },
  {
   "cell_type": "markdown",
   "id": "e175f9b7",
   "metadata": {
    "lines_to_next_cell": 0,
    "region_name": "md"
   },
   "source": [
    "\n",
    "## Axis Annotations\n"
   ]
  },
  {
   "cell_type": "code",
   "execution_count": null,
   "id": "2403051e",
   "metadata": {},
   "outputs": [],
   "source": [
    "axis = ses.GetAxisAnnotations()\n",
    "axis.SetAxisAnnotationEnabled(True)\n",
    "ses.Show()"
   ]
  },
  {
   "cell_type": "code",
   "execution_count": null,
   "id": "1bcf787a",
   "metadata": {},
   "outputs": [],
   "source": [
    "axis.SetNumTics((5,5))\n",
    "axis.SetAxisFontSize(24)\n",
    "ses.Show()\n",
    "\n",
    "# This example dataset is not geo-referenced\n",
    "# axis.SetLatLonAxesEnabled(True)"
   ]
  },
  {
   "cell_type": "code",
   "execution_count": null,
   "id": "40a638fe",
   "metadata": {},
   "outputs": [],
   "source": [
    "axis.SetAxisAnnotationEnabled(False)"
   ]
  },
  {
   "cell_type": "markdown",
   "id": "aa38d041",
   "metadata": {
    "lines_to_next_cell": 0,
    "region_name": "md"
   },
   "source": [
    "\n",
    "## Scene Annotations\n",
    "\n",
    "Scene annotations are other annotations and rendering options that apply to the entire rendering such as background color.\n"
   ]
  },
  {
   "cell_type": "code",
   "execution_count": null,
   "id": "f8bd1f89",
   "metadata": {},
   "outputs": [],
   "source": [
    "scene = ses.GetSceneAnnotations()\n",
    "scene.SetBackgroundColor((1,1,1))\n",
    "scene.SetUseDomainFrame(False)\n",
    "ses.Show()"
   ]
  },
  {
   "cell_type": "code",
   "execution_count": null,
   "id": "4fa67225",
   "metadata": {},
   "outputs": [],
   "source": [
    "scene.SetAxisArrowEnabled(True)\n",
    "scene.SetAxisArrowSize(0.4)\n",
    "\n",
    "scene.SetTimeType(scene.TimeAnnotationType.Timestep)\n",
    "scene.SetTimeColor((0,0,0))\n",
    "scene.SetTimeLLX(0.7)\n",
    "\n",
    "ses.Show()"
   ]
  }
 ],
 "metadata": {
  "jupytext": {
   "cell_metadata_filter": "region_name,-all",
   "main_language": "python",
   "notebook_metadata_filter": "-all"
  }
 },
 "nbformat": 4,
 "nbformat_minor": 5
}
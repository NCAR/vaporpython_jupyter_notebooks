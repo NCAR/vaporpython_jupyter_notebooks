{
 "cells": [
  {
   "cell_type": "markdown",
   "id": "8aa26791",
   "metadata": {
    "lines_to_next_cell": 0,
    "region_name": "md"
   },
   "source": [
    "\n",
    "# Rendering XArray data with Vapor\n",
    "\n",
    "Vapor supports render XArray data in a similar fashion to Numpy data\n",
    "In order to pass XArray data to Vapor, create a data set of the type `vapor.dataset.PYTHON`\n",
    "This can also be done with the convenience function `Session.CreatePythonDataset()`.\n",
    "You can add XArray variables as vapor variables to that dataset by using `Dataset.AddXArrayData`.\n",
    "\n",
    "These variables can then be rendered normally using any of Vapor's renderers.\n"
   ]
  },
  {
   "cell_type": "code",
   "execution_count": null,
   "id": "2b19a9f3",
   "metadata": {
    "lines_to_next_cell": 1
   },
   "outputs": [],
   "source": [
    "\n",
    "import example_utils\n",
    "from vapor import session, renderer, dataset, camera\n",
    "import xarray as xr\n",
    "import numpy as np\n",
    "from math import cos, sin, pi\n",
    "\n",
    "ses = session.Session()\n",
    "data = ses.CreatePythonDataset()"
   ]
  },
  {
   "cell_type": "markdown",
   "id": "47611612",
   "metadata": {
    "lines_to_next_cell": 0,
    "region_name": "md"
   },
   "source": [
    "\n",
    "Below we generate an XArray variable that consists of a curvilinear 2D grid.\n",
    "You can also open an existing dataset with `xarray.open_dataset` and use variables in that dataset.\n"
   ]
  },
  {
   "cell_type": "code",
   "execution_count": null,
   "id": "3e85b53d",
   "metadata": {},
   "outputs": [],
   "source": [
    "def gen2d(w,h,f):\n",
    "    \"\"\"Generate a 2D grid of size (w,h) by evaluating f(x,y) for every x,y coordinate\"\"\"\n",
    "    ay = []\n",
    "    for y in range(0,h):\n",
    "        ax = []\n",
    "        for x in range(0,w):\n",
    "            ax += [f(x,y)]\n",
    "        ay += [ax]\n",
    "    return ay\n",
    "\n",
    "w = h = 8\n",
    "curveVar = xr.DataArray(\n",
    "    np.random.randn(8, 8),\n",
    "    dims=(\"x\", \"y\"),\n",
    "    coords={\n",
    "        \"x_coord\": xr.DataArray(gen2d(8,8,lambda x,y: cos(y/(h-1)*pi) * (x+(w+1))), dims=(\"x\", \"y\")),\n",
    "        \"y_coord\": xr.DataArray(gen2d(8,8,lambda x,y: sin(y/(h-1)*pi) * (x+(w+1))), dims=(\"x\", \"y\"))\n",
    "    })\n",
    "\n",
    "data.AddXArrayData(\"variable_name\", curveVar)"
   ]
  },
  {
   "cell_type": "code",
   "execution_count": null,
   "id": "0e913641",
   "metadata": {},
   "outputs": [],
   "source": [
    "\n",
    "# Create a renderer for the data\n",
    "\n",
    "ren = data.NewRenderer(renderer.WireFrameRenderer)\n",
    "ren.SetVariableName(\"variable_name\")"
   ]
  },
  {
   "cell_type": "code",
   "execution_count": null,
   "id": "357f7cb5",
   "metadata": {},
   "outputs": [],
   "source": [
    "\n",
    "# Show the rendering\n",
    "\n",
    "ses.GetCamera().ViewAll()\n",
    "ses.Show()"
   ]
  }
 ],
 "metadata": {
  "jupytext": {
   "cell_metadata_filter": "region_name,-all",
   "main_language": "python",
   "notebook_metadata_filter": "-all"
  }
 },
 "nbformat": 4,
 "nbformat_minor": 5
}